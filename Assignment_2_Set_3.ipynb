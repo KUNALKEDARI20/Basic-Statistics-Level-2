{
  "cells": [
    {
      "cell_type": "markdown",
      "metadata": {
        "id": "view-in-github",
        "colab_type": "text"
      },
      "source": [
        "<a href=\"https://colab.research.google.com/github/KUNALKEDARI20/Basic-Statistics-Level-2-Set-1/blob/main/Assignment_2_Set_3.ipynb\" target=\"_parent\"><img src=\"https://colab.research.google.com/assets/colab-badge.svg\" alt=\"Open In Colab\"/></a>"
      ]
    },
    {
      "cell_type": "code",
      "execution_count": null,
      "id": "7d627dde",
      "metadata": {
        "id": "7d627dde"
      },
      "outputs": [],
      "source": [
        "import pandas as pd\n",
        "import numpy as np\n",
        "import matplotlib.pyplot as plt\n",
        "import scipy.stats as stats\n",
        "import seaborn as sns\n",
        "import statsmodels.api as smf\n",
        "import warnings\n",
        "warnings.filterwarnings('ignore')"
      ]
    },
    {
      "cell_type": "markdown",
      "id": "f8145c91",
      "metadata": {
        "id": "f8145c91"
      },
      "source": [
        "# Set 3\n",
        "\n"
      ]
    },
    {
      "cell_type": "markdown",
      "id": "1ae5a0da",
      "metadata": {
        "id": "1ae5a0da"
      },
      "source": [
        "### Question 5\n",
        "\n"
      ]
    },
    {
      "cell_type": "markdown",
      "id": "2e95bc6d",
      "metadata": {
        "id": "2e95bc6d"
      },
      "source": [
        "5.\tIn January 2005, a company that monitors Internet traffic (WebSideStory) reported that its sampling revealed that the Mozilla Firefox browser launched in 2004 had grabbed a 4.6% share of the market.\n",
        "\n",
        "+\tIf the sample were based on 2,000 users, could Microsoft conclude that Mozilla has a less than 5% share of the market?\n",
        "\n",
        ""
      ]
    },
    {
      "cell_type": "markdown",
      "id": "013b18a2",
      "metadata": {
        "id": "013b18a2"
      },
      "source": [
        "Ans\n",
        "+ null_hypothesis >= 5%\n",
        "+ alternate hypothesis < 5%"
      ]
    },
    {
      "cell_type": "code",
      "execution_count": null,
      "id": "2d741bfa",
      "metadata": {
        "id": "2d741bfa"
      },
      "outputs": [],
      "source": []
    },
    {
      "cell_type": "code",
      "execution_count": null,
      "id": "8b5482da",
      "metadata": {
        "id": "8b5482da",
        "outputId": "cd6757b7-b7f1-4484-f1cf-26710f808d00"
      },
      "outputs": [
        {
          "data": {
            "text/plain": [
              "0.20582313410777142"
            ]
          },
          "execution_count": 3,
          "metadata": {},
          "output_type": "execute_result"
        }
      ],
      "source": [
        "p_hat = .046\n",
        "p = .05\n",
        "n = 2000\n",
        "\n",
        "# z_score = p_hat-p/(p(1-p)/n)**0.5\n",
        "z_score = (p_hat-p)/(np.sqrt((p*(1-p))/n))\n",
        "z_score\n",
        "\n",
        "p_value = stats.norm.sf(0.821)\n",
        "p_value"
      ]
    },
    {
      "cell_type": "markdown",
      "id": "887bbe2f",
      "metadata": {
        "id": "887bbe2f"
      },
      "source": [
        "+ Find Probability assuming null hyposthesis, so as to compare with Type-1 error α = 0.05\n",
        "\n"
      ]
    },
    {
      "cell_type": "code",
      "execution_count": null,
      "id": "952abe56",
      "metadata": {
        "id": "952abe56",
        "outputId": "0b7e8269-e03e-4aae-8dec-7594d15e56f6"
      },
      "outputs": [
        {
          "name": "stdout",
          "output_type": "stream",
          "text": [
            "No: Microsoft could not conclude that Mozilla has a less\n",
            "    than 5% share of the market even if the sample were \n",
            "    based on 2,000 users\n"
          ]
        }
      ],
      "source": [
        "if p_value>0.05:\n",
        "    print(\"\"\"No: Microsoft could not conclude that Mozilla has a less\n",
        "    than 5% share of the market even if the sample were\n",
        "    based on 2,000 users\"\"\")\n",
        "else:\n",
        "    print(\"Yes\")"
      ]
    },
    {
      "cell_type": "code",
      "execution_count": null,
      "id": "84af2077",
      "metadata": {
        "id": "84af2077"
      },
      "outputs": [],
      "source": []
    },
    {
      "cell_type": "code",
      "execution_count": null,
      "id": "b3c6dde0",
      "metadata": {
        "id": "b3c6dde0"
      },
      "outputs": [],
      "source": []
    },
    {
      "cell_type": "code",
      "execution_count": null,
      "id": "a8279790",
      "metadata": {
        "id": "a8279790"
      },
      "outputs": [],
      "source": []
    },
    {
      "cell_type": "code",
      "execution_count": null,
      "id": "b5a8b206",
      "metadata": {
        "id": "b5a8b206"
      },
      "outputs": [],
      "source": []
    },
    {
      "cell_type": "code",
      "execution_count": null,
      "id": "46221371",
      "metadata": {
        "id": "46221371"
      },
      "outputs": [],
      "source": []
    },
    {
      "cell_type": "code",
      "execution_count": null,
      "id": "d601778a",
      "metadata": {
        "id": "d601778a"
      },
      "outputs": [],
      "source": []
    }
  ],
  "metadata": {
    "kernelspec": {
      "display_name": "Python 3 (ipykernel)",
      "language": "python",
      "name": "python3"
    },
    "language_info": {
      "codemirror_mode": {
        "name": "ipython",
        "version": 3
      },
      "file_extension": ".py",
      "mimetype": "text/x-python",
      "name": "python",
      "nbconvert_exporter": "python",
      "pygments_lexer": "ipython3",
      "version": "3.9.7"
    },
    "colab": {
      "provenance": [],
      "include_colab_link": true
    }
  },
  "nbformat": 4,
  "nbformat_minor": 5
}